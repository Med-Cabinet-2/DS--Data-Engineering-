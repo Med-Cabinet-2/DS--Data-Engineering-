{
 "cells": [
  {
   "cell_type": "code",
   "execution_count": 78,
   "metadata": {},
   "outputs": [
    {
     "data": {
      "text/plain": [
       "2162"
      ]
     },
     "execution_count": 78,
     "metadata": {},
     "output_type": "execute_result"
    }
   ],
   "source": [
    "import numpy as np\n",
    "import pandas as pd\n",
    "\n",
    "## Import CSV from George\n",
    "df = pd.read_csv('./data/cannabis.csv')\n",
    "\n",
    "# Keep only records of strains with high ratings.\n",
    "df = df[df['Rating'] >= 4.0]\n",
    "\n",
    "## rename some of the columns to match Isabella's examples\n",
    "new_colnames = ['strain_name', 'strain_type', 'rating', 'effects', 'flavor', 'strain_description']\n",
    "df.columns = new_colnames\n",
    "\n",
    "# test_row = df.iloc[0]\n",
    "\n",
    "def make_json(row):\n",
    "    \"\"\"Custom function to build a simple JSON doc.\"\"\"\n",
    "    output = \"\"\n",
    "    for c in new_colnames: # for every column name (a key)\n",
    "        output += f\"'{c}' ; '{row[c]}', \" # add a kv pair\n",
    "    return \"{\" + output[:-2] +\"}\" # chop off final comma and space, wrap, return JSON string\n",
    "\n",
    "# make_row(test_row)\n",
    "\n",
    "## Add JSON column to every row.\n",
    "df['json'] = df.apply(lambda row: make_json(row), axis=1)\n",
    "# df.head()\n",
    "\n",
    "## \n",
    "json_records = df['json']\n",
    "len(json_records)"
   ]
  },
  {
   "cell_type": "code",
   "execution_count": 79,
   "metadata": {},
   "outputs": [],
   "source": [
    "with open('json_records.txt', 'w') as f:\n",
    "    for r in json_records:\n",
    "        f.write(r)"
   ]
  }
 ],
 "metadata": {
  "kernelspec": {
   "display_name": "Python 3",
   "language": "python",
   "name": "python3"
  },
  "language_info": {
   "codemirror_mode": {
    "name": "ipython",
    "version": 3
   },
   "file_extension": ".py",
   "mimetype": "text/x-python",
   "name": "python",
   "nbconvert_exporter": "python",
   "pygments_lexer": "ipython3",
   "version": "3.7.6"
  }
 },
 "nbformat": 4,
 "nbformat_minor": 4
}
