{
 "cells": [
  {
   "cell_type": "code",
   "execution_count": 6,
   "metadata": {},
   "outputs": [],
   "source": [
    "# test_JSON = '{\"user_id\" : \"123\", \"parameters\" : {\"flavor\" : \"pine\", \"flavor\" : \"honeydew\", \"strain\" : \"sativa\", \n",
    "#          \"effect\" : \"sleepy\"}}'\n",
    "\n",
    "test_JSON = '{\"user_id\" : \"123\" , \"parameters\" : {\"flavor\" : \"pine\",  \"flavor\" : \"honeydew\", \"strain\" : \"sativa\", \"effect\" : \"sleepy\"}}'\n",
    "\n",
    "test_payload = {\"user_id\" : \"123\" , \"parameters\" : {\"flavor\" : \"pine\",  \"flavor\" : \"honeydew\", \"strain\" : \"sativa\", \"effect\" : \"sleepy\"}}"
   ]
  },
  {
   "cell_type": "code",
   "execution_count": 7,
   "metadata": {},
   "outputs": [
    {
     "data": {
      "text/plain": [
       "'{\"user_id\" : \"123\" , \"parameters\" : {\"flavor\" : \"pine\",  \"flavor\" : \"honeydew\", \"strain\" : \"sativa\", \"effect\" : \"sleepy\"}}'"
      ]
     },
     "execution_count": 7,
     "metadata": {},
     "output_type": "execute_result"
    }
   ],
   "source": [
    "test_JSON"
   ]
  },
  {
   "cell_type": "code",
   "execution_count": null,
   "metadata": {},
   "outputs": [],
   "source": []
  },
  {
   "cell_type": "code",
   "execution_count": 8,
   "metadata": {},
   "outputs": [
    {
     "data": {
      "text/plain": [
       "['foo', {'bar': ['baz', None, 1.0, 2]}]"
      ]
     },
     "execution_count": 8,
     "metadata": {},
     "output_type": "execute_result"
    }
   ],
   "source": [
    "import json\n",
    "j = json.loads(test_JSON)\n",
    "# print (j['parameters'])\n",
    "\n",
    "adict = json.dumps(j)\n",
    "adict\n",
    "\n",
    "json.loads('[\"foo\", {\"bar\":[\"baz\", null, 1.0, 2]}]')"
   ]
  },
  {
   "cell_type": "code",
   "execution_count": 9,
   "metadata": {},
   "outputs": [],
   "source": [
    "encoder = json.JSONEncoder()\n",
    "\n",
    "decoder = json.JSONDecoder()\n",
    "\n",
    "foo = encoder.encode(test_payload)\n",
    "\n",
    "goo = decoder.decode(foo)\n",
    "\n",
    "hoo = goo['parameters']\n",
    "\n",
    "joo = list(map( (lambda pr: pr) , hoo))\n",
    "\n",
    "koo = ' '.join(joo)\n",
    "\n",
    "koo\n",
    "\n",
    "\n",
    "def vals_from_json(my_json):\n",
    "    goo = decoder.decode(my_json)['parameters']\n",
    "    return list(goo.values())\n",
    "\n",
    "def clean_string(s):\n",
    "    return s.lower().replace('(', ' ').replace(')',' ').replace(',',' ')\n",
    "\n",
    "# def join_"
   ]
  },
  {
   "cell_type": "code",
   "execution_count": 10,
   "metadata": {},
   "outputs": [],
   "source": [
    "xoo = \"pine honeydew sativa sleepy\""
   ]
  },
  {
   "cell_type": "code",
   "execution_count": 51,
   "metadata": {},
   "outputs": [
    {
     "data": {
      "text/plain": [
       "Index(['strain_name', 'strain_type', 'rating', 'effects', 'flavor',\n",
       "       'strain_description'],\n",
       "      dtype='object')"
      ]
     },
     "execution_count": 51,
     "metadata": {},
     "output_type": "execute_result"
    }
   ],
   "source": [
    "df.columns\n",
    "\n",
    "df.columns"
   ]
  },
  {
   "cell_type": "code",
   "execution_count": 78,
   "metadata": {},
   "outputs": [
    {
     "data": {
      "text/plain": [
       "2162"
      ]
     },
     "execution_count": 78,
     "metadata": {},
     "output_type": "execute_result"
    }
   ],
   "source": [
    "import numpy as np\n",
    "import pandas as pd\n",
    "df = pd.read_csv('./data/cannabis.csv')\n",
    "\n",
    "df = df[df['Rating'] >= 4.0]\n",
    "\n",
    "# rename some of the columns to match Isabella's examples\n",
    "\n",
    "new_colnames = ['strain_name', 'strain_type', 'rating', 'effects', 'flavor', 'strain_description']\n",
    "\n",
    "df.columns = new_colnames\n",
    "\n",
    "# test_row = df.iloc[0]\n",
    "\n",
    "def make_json(row):\n",
    "    output = \"\"\n",
    "    for c in new_colnames: # for every column name (a key)\n",
    "        output += f\"'{c}' ; '{row[c]}', \" # add a kv pair\n",
    "    return \"{\" + output[:-2] +\"}\" # chop off final comma and space, wrap, return JSON string\n",
    "\n",
    "# make_row(test_row)\n",
    "\n",
    "df['json'] = df.apply(lambda row: make_json(row), axis=1)\n",
    "# df.head()\n",
    "json_records = df['json']\n",
    "len(json_records)"
   ]
  },
  {
   "cell_type": "code",
   "execution_count": 79,
   "metadata": {},
   "outputs": [],
   "source": [
    "with open('json_records.txt', 'w') as f:\n",
    "    for r in json_records:\n",
    "        f.write(r)"
   ]
  }
 ],
 "metadata": {
  "kernelspec": {
   "display_name": "Python 3",
   "language": "python",
   "name": "python3"
  },
  "language_info": {
   "codemirror_mode": {
    "name": "ipython",
    "version": 3
   },
   "file_extension": ".py",
   "mimetype": "text/x-python",
   "name": "python",
   "nbconvert_exporter": "python",
   "pygments_lexer": "ipython3",
   "version": "3.7.6"
  }
 },
 "nbformat": 4,
 "nbformat_minor": 4
}
